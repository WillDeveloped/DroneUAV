{
 "cells": [
  {
   "cell_type": "code",
   "execution_count": 1,
   "id": "3af22b49",
   "metadata": {},
   "outputs": [],
   "source": [
    "import cv2\n",
    "import numpy as np\n",
    "import threading\n",
    "import time\n",
    "import pandas as pd\n",
    "from djitellopy import tello\n"
   ]
  },
  {
   "cell_type": "code",
   "execution_count": 2,
   "id": "b9030329",
   "metadata": {
    "scrolled": false
   },
   "outputs": [
    {
     "name": "stderr",
     "output_type": "stream",
     "text": [
      "[INFO] tello.py - 120 - Tello instance was initialized. Host: '192.168.10.1'. Port: '8889'.\n",
      "[INFO] tello.py - 436 - Send command: 'command'\n",
      "[INFO] tello.py - 460 - Response command: 'ok'\n"
     ]
    }
   ],
   "source": [
    "drone = tello.Tello()\n",
    "drone.connect()\n",
    "#while True:\n",
    "#    print(drone.get_battery())\n",
    "#    time.sleep(30)"
   ]
  },
  {
   "cell_type": "code",
   "execution_count": 9,
   "id": "03850177",
   "metadata": {},
   "outputs": [
    {
     "name": "stdout",
     "output_type": "stream",
     "text": [
      "7\n"
     ]
    }
   ],
   "source": [
    "print(drone.get_battery())"
   ]
  },
  {
   "cell_type": "code",
   "execution_count": 4,
   "id": "47b8df46",
   "metadata": {},
   "outputs": [],
   "source": [
    "def get_response():\n",
    "    return drone.get_current_state()"
   ]
  },
  {
   "cell_type": "code",
   "execution_count": 10,
   "id": "6bff2a58",
   "metadata": {
    "scrolled": false
   },
   "outputs": [
    {
     "name": "stdout",
     "output_type": "stream",
     "text": [
      "(1, 21)\n"
     ]
    }
   ],
   "source": [
    "response = get_response()\n",
    "#print(response.keys())\n",
    "#print(response.values())\n",
    "data = pd.DataFrame([response])\n",
    "data.transpose()\n",
    "data['time'] = time.time()\n",
    "\n",
    "#print(data.info())\n",
    "print(data.shape)"
   ]
  },
  {
   "cell_type": "code",
   "execution_count": null,
   "id": "8545ca04",
   "metadata": {},
   "outputs": [],
   "source": []
  },
  {
   "cell_type": "code",
   "execution_count": 11,
   "id": "3de8adb8",
   "metadata": {},
   "outputs": [],
   "source": [
    "for x in range (1,100):\n",
    "    newResponse = get_response()\n",
    "    data.loc[x] = list(newResponse.values())\n",
    "    time.sleep(.1)\n"
   ]
  },
  {
   "cell_type": "code",
   "execution_count": 12,
   "id": "fe55d82b",
   "metadata": {},
   "outputs": [
    {
     "name": "stdout",
     "output_type": "stream",
     "text": [
      "    mid    x    y    z   mpry  pitch  roll  yaw  vgx  vgy  ...  templ  temph  \\\n",
      "0    -1 -100 -100 -100  0,0,0     -1     0   28    0    0  ...     75     77   \n",
      "1    -1 -100 -100 -100  0,0,0     -1     0   28    0    0  ...     76     78   \n",
      "2    -1 -100 -100 -100  0,0,0     -1     0   28    0    0  ...     76     78   \n",
      "3    -1 -100 -100 -100  0,0,0     -1     0   28    0    0  ...     76     78   \n",
      "4    -1 -100 -100 -100  0,0,0     -1     0   28    0    0  ...     76     78   \n",
      "..  ...  ...  ...  ...    ...    ...   ...  ...  ...  ...  ...    ...    ...   \n",
      "95   -1 -100 -100 -100  0,0,0      4    13   13    0    0  ...     76     78   \n",
      "96   -1 -100 -100 -100  0,0,0      6    10   12    0    0  ...     76     78   \n",
      "97   -1 -100 -100 -100  0,0,0      7     5   10    0    0  ...     76     78   \n",
      "98   -1 -100 -100 -100  0,0,0      8    -2    6    0    0  ...     76     78   \n",
      "99   -1 -100 -100 -100  0,0,0      2     8    8    0    0  ...     76     79   \n",
      "\n",
      "    tof  h  bat    baro  time    agx    agy     agz  \n",
      "0    10  0    7  377.01     0  -20.0   11.0  -999.0  \n",
      "1    10  0    7  377.05     0  -20.0   12.0  -997.0  \n",
      "2    10  0    7  377.06     0  -21.0   14.0  -998.0  \n",
      "3    10  0    7  377.09     0  -18.0   13.0  -998.0  \n",
      "4    10  0    7  377.11     0  -19.0   12.0 -1000.0  \n",
      "..  ... ..  ...     ...   ...    ...    ...     ...  \n",
      "95   10  0    6  377.26     0   69.0 -222.0  -970.0  \n",
      "96   10  0    6  377.24     0   96.0 -163.0  -965.0  \n",
      "97   10  0    6  377.22     0   75.0  -47.0  -925.0  \n",
      "98   10  0    6  377.25     0  192.0    1.0 -1075.0  \n",
      "99   10  0    6  377.24     0  175.0   42.0 -1064.0  \n",
      "\n",
      "[100 rows x 21 columns]\n"
     ]
    }
   ],
   "source": [
    "print(data)"
   ]
  },
  {
   "cell_type": "code",
   "execution_count": 236,
   "id": "a096b6d1",
   "metadata": {},
   "outputs": [],
   "source": []
  },
  {
   "cell_type": "code",
   "execution_count": 287,
   "id": "dc405b1e",
   "metadata": {
    "scrolled": true
   },
   "outputs": [
    {
     "name": "stdout",
     "output_type": "stream",
     "text": [
      "done\n"
     ]
    }
   ],
   "source": [
    "data.to_csv('data10.csv', index=False)\n",
    "print(\"done\")"
   ]
  },
  {
   "cell_type": "code",
   "execution_count": 288,
   "id": "23ff6175",
   "metadata": {},
   "outputs": [
    {
     "name": "stdout",
     "output_type": "stream",
     "text": [
      "    mid    x    y    z   mpry  pitch  roll  yaw  vgx  vgy  ...  templ  temph  \\\n",
      "0    -1 -100 -100 -100  0,0,0     -5   -11    0    0    0  ...     49     52   \n",
      "1    -1 -100 -100 -100  0,0,0    -22   -62   13    0    0  ...     49     52   \n",
      "2    -1 -100 -100 -100  0,0,0    -12   -37    4    0    0  ...     49     52   \n",
      "3    -1 -100 -100 -100  0,0,0    -13     6  -10    0    0  ...     49     52   \n",
      "4    -1 -100 -100 -100  0,0,0    -14     7   -8    0    0  ...     49     52   \n",
      "..  ...  ...  ...  ...    ...    ...   ...  ...  ...  ...  ...    ...    ...   \n",
      "95   -1 -100 -100 -100  0,0,0      8   -35   52    0    0  ...     50     53   \n",
      "96   -1 -100 -100 -100  0,0,0     14   -24   60    0    0  ...     50     53   \n",
      "97   -1 -100 -100 -100  0,0,0     13   -25   62    0    0  ...     51     53   \n",
      "98   -1 -100 -100 -100  0,0,0      4   -30   51    0    0  ...     51     53   \n",
      "99   -1 -100 -100 -100  0,0,0      6   -38   53    0    0  ...     51     53   \n",
      "\n",
      "    tof  h  bat    baro  time    agx     agy     agz  \n",
      "0    10  0   22  378.73     0  -99.0   200.0  -973.0  \n",
      "1    10  0   17  378.11     0 -271.0  1068.0  -599.0  \n",
      "2    10  0   17  378.02     0 -226.0   578.0  -965.0  \n",
      "3    10  0   17  378.05     0 -221.0  -251.0  -683.0  \n",
      "4    10  0   17  378.04     0 -211.0   480.0 -1238.0  \n",
      "..  ... ..  ...     ...   ...    ...     ...     ...  \n",
      "95   10  0   17  378.01     0   97.0   677.0  -776.0  \n",
      "96   10  0   17  378.00     0  302.0   509.0  -842.0  \n",
      "97   10  0   17  378.03     0  215.0   603.0  -774.0  \n",
      "98   10  0   17  377.97     0  228.0   365.0  -846.0  \n",
      "99   10  0   17  377.98     0  260.0   361.0  -908.0  \n",
      "\n",
      "[100 rows x 21 columns]\n"
     ]
    }
   ],
   "source": [
    "print(data)"
   ]
  },
  {
   "cell_type": "code",
   "execution_count": null,
   "id": "6d1d7171",
   "metadata": {},
   "outputs": [],
   "source": []
  },
  {
   "cell_type": "code",
   "execution_count": null,
   "id": "ad149286",
   "metadata": {},
   "outputs": [],
   "source": []
  },
  {
   "cell_type": "code",
   "execution_count": null,
   "id": "4960e8c9",
   "metadata": {},
   "outputs": [],
   "source": []
  },
  {
   "cell_type": "code",
   "execution_count": null,
   "id": "42c7ca72",
   "metadata": {},
   "outputs": [],
   "source": []
  },
  {
   "cell_type": "code",
   "execution_count": null,
   "id": "68e358b3",
   "metadata": {},
   "outputs": [],
   "source": []
  }
 ],
 "metadata": {
  "kernelspec": {
   "display_name": "Python 3",
   "language": "python",
   "name": "python3"
  },
  "language_info": {
   "codemirror_mode": {
    "name": "ipython",
    "version": 3
   },
   "file_extension": ".py",
   "mimetype": "text/x-python",
   "name": "python",
   "nbconvert_exporter": "python",
   "pygments_lexer": "ipython3",
   "version": "3.8.8"
  }
 },
 "nbformat": 4,
 "nbformat_minor": 5
}
