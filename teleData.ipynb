{
 "cells": [
  {
   "cell_type": "code",
   "execution_count": 4,
   "id": "3af22b49",
   "metadata": {},
   "outputs": [],
   "source": [
    "import cv2\n",
    "import numpy as np\n",
    "import threading\n",
    "import time\n",
    "import pandas as pd\n",
    "from djitellopy import tello\n"
   ]
  },
  {
   "cell_type": "code",
   "execution_count": 6,
   "id": "b9030329",
   "metadata": {
    "scrolled": false
   },
   "outputs": [
    {
     "name": "stderr",
     "output_type": "stream",
     "text": [
      "[INFO] tello.py - 120 - Tello instance was initialized. Host: '192.168.10.1'. Port: '8889'.\n",
      "[INFO] tello.py - 436 - Send command: 'command'\n",
      "[INFO] tello.py - 460 - Response command: 'ok'\n"
     ]
    }
   ],
   "source": [
    "drone = tello.Tello()\n",
    "drone.connect()\n",
    "#while True:\n",
    "#    print(drone.get_battery())\n",
    "#    time.sleep(30)"
   ]
  },
  {
   "cell_type": "code",
   "execution_count": 7,
   "id": "03850177",
   "metadata": {},
   "outputs": [
    {
     "name": "stdout",
     "output_type": "stream",
     "text": [
      "93\n"
     ]
    }
   ],
   "source": [
    "print(drone.get_battery())"
   ]
  },
  {
   "cell_type": "code",
   "execution_count": 8,
   "id": "47b8df46",
   "metadata": {},
   "outputs": [],
   "source": [
    "def getTelemetry(runTime, direction):               #Runtime is a time in seconds that the operation should take, direction is the command called\n",
    "    response = drone.get_current_state()            #Gets dict response\n",
    "    data = pd.DataFrame([response])                 #Creates data frame\n",
    "    data.transpose()\n",
    "    data['time'] = time.time()                      #adds the time column\n",
    "        \n",
    "    for x in range(1, runTime * 10):                #10 would need to be changed according to what you sleep for at the end of the loop\n",
    "        newResponse = drone.get_current_state()\n",
    "        data.loc[x] = list(newResponse.values())    #appends to the dataframe\n",
    "        time.sleep(.1)\n",
    "\n",
    "    fileName = direction + str(runTime) + '.csv'\n",
    "    data.to_csv(fileName, index=False)\n",
    "    print(fileName, \"added\")"
   ]
  },
  {
   "cell_type": "code",
   "execution_count": 9,
   "id": "6bff2a58",
   "metadata": {
    "scrolled": false
   },
   "outputs": [],
   "source": [
    "def move():\n",
    "    getTelemetry(10, 'forward')\n",
    "    drone.takeoff()\n",
    "    time.sleep(3)\n",
    "    print(\"take off\")\n",
    "    print(\"Setting speed\")\n",
    "    drone.set_speed(10) #~4 inches or 10 cm/s\n",
    "    time.sleep(1)\n",
    "    \n",
    "    for x in range(100):\n",
    "        velocity = [0,100,0,0]\n",
    "        drone.send_rc_control(velocity)\n",
    "        time.sleep(.1)\n",
    "\n",
    "    drone.land()"
   ]
  },
  {
   "cell_type": "code",
   "execution_count": 10,
   "id": "3de8adb8",
   "metadata": {},
   "outputs": [
    {
     "name": "stderr",
     "output_type": "stream",
     "text": [
      "[INFO] tello.py - 436 - Send command: 'takeoff'\n"
     ]
    },
    {
     "name": "stdout",
     "output_type": "stream",
     "text": [
      "forward10.csv added\n"
     ]
    },
    {
     "name": "stderr",
     "output_type": "stream",
     "text": [
      "[INFO] tello.py - 460 - Response takeoff: 'ok'\n",
      "[INFO] tello.py - 436 - Send command: 'speed 10'\n",
      "[INFO] tello.py - 460 - Response speed 10: 'ok'\n"
     ]
    },
    {
     "name": "stdout",
     "output_type": "stream",
     "text": [
      "take off\n",
      "Setting speed\n"
     ]
    },
    {
     "ename": "TypeError",
     "evalue": "Unexpected type for 'left_right_velocity' (expected <class 'int'> but found <class 'list'>)",
     "output_type": "error",
     "traceback": [
      "\u001b[1;31m---------------------------------------------------------------------------\u001b[0m",
      "\u001b[1;31mTypeError\u001b[0m                                 Traceback (most recent call last)",
      "\u001b[1;32m<ipython-input-10-a4c913af7aa2>\u001b[0m in \u001b[0;36m<module>\u001b[1;34m\u001b[0m\n\u001b[1;32m----> 1\u001b[1;33m \u001b[0mmove\u001b[0m\u001b[1;33m(\u001b[0m\u001b[1;33m)\u001b[0m\u001b[1;33m\u001b[0m\u001b[1;33m\u001b[0m\u001b[0m\n\u001b[0m",
      "\u001b[1;32m<ipython-input-9-52ec3efa5894>\u001b[0m in \u001b[0;36mmove\u001b[1;34m()\u001b[0m\n\u001b[0;32m     10\u001b[0m     \u001b[1;32mfor\u001b[0m \u001b[0mx\u001b[0m \u001b[1;32min\u001b[0m \u001b[0mrange\u001b[0m\u001b[1;33m(\u001b[0m\u001b[1;36m100\u001b[0m\u001b[1;33m)\u001b[0m\u001b[1;33m:\u001b[0m\u001b[1;33m\u001b[0m\u001b[1;33m\u001b[0m\u001b[0m\n\u001b[0;32m     11\u001b[0m         \u001b[0mvelocity\u001b[0m \u001b[1;33m=\u001b[0m \u001b[1;33m[\u001b[0m\u001b[1;36m0\u001b[0m\u001b[1;33m,\u001b[0m\u001b[1;36m100\u001b[0m\u001b[1;33m,\u001b[0m\u001b[1;36m0\u001b[0m\u001b[1;33m,\u001b[0m\u001b[1;36m0\u001b[0m\u001b[1;33m]\u001b[0m\u001b[1;33m\u001b[0m\u001b[1;33m\u001b[0m\u001b[0m\n\u001b[1;32m---> 12\u001b[1;33m         \u001b[0mdrone\u001b[0m\u001b[1;33m.\u001b[0m\u001b[0msend_rc_control\u001b[0m\u001b[1;33m(\u001b[0m\u001b[0mvelocity\u001b[0m\u001b[1;33m)\u001b[0m\u001b[1;33m\u001b[0m\u001b[1;33m\u001b[0m\u001b[0m\n\u001b[0m\u001b[0;32m     13\u001b[0m         \u001b[0mtime\u001b[0m\u001b[1;33m.\u001b[0m\u001b[0msleep\u001b[0m\u001b[1;33m(\u001b[0m\u001b[1;36m.1\u001b[0m\u001b[1;33m)\u001b[0m\u001b[1;33m\u001b[0m\u001b[1;33m\u001b[0m\u001b[0m\n\u001b[0;32m     14\u001b[0m \u001b[1;33m\u001b[0m\u001b[0m\n",
      "\u001b[1;32m~\\Desktop\\DroneUAV\\djitellopy\\enforce_types.py\u001b[0m in \u001b[0;36mwrapper\u001b[1;34m(*args, **kwargs)\u001b[0m\n\u001b[0;32m     50\u001b[0m         \u001b[1;33m@\u001b[0m\u001b[0mwraps\u001b[0m\u001b[1;33m(\u001b[0m\u001b[0mfunc\u001b[0m\u001b[1;33m)\u001b[0m\u001b[1;33m\u001b[0m\u001b[1;33m\u001b[0m\u001b[0m\n\u001b[0;32m     51\u001b[0m         \u001b[1;32mdef\u001b[0m \u001b[0mwrapper\u001b[0m\u001b[1;33m(\u001b[0m\u001b[1;33m*\u001b[0m\u001b[0margs\u001b[0m\u001b[1;33m,\u001b[0m \u001b[1;33m**\u001b[0m\u001b[0mkwargs\u001b[0m\u001b[1;33m)\u001b[0m\u001b[1;33m:\u001b[0m\u001b[1;33m\u001b[0m\u001b[1;33m\u001b[0m\u001b[0m\n\u001b[1;32m---> 52\u001b[1;33m             \u001b[0mcheck_types\u001b[0m\u001b[1;33m(\u001b[0m\u001b[0mspec\u001b[0m\u001b[1;33m,\u001b[0m \u001b[1;33m*\u001b[0m\u001b[0margs\u001b[0m\u001b[1;33m,\u001b[0m \u001b[1;33m**\u001b[0m\u001b[0mkwargs\u001b[0m\u001b[1;33m)\u001b[0m\u001b[1;33m\u001b[0m\u001b[1;33m\u001b[0m\u001b[0m\n\u001b[0m\u001b[0;32m     53\u001b[0m             \u001b[1;32mreturn\u001b[0m \u001b[0mfunc\u001b[0m\u001b[1;33m(\u001b[0m\u001b[1;33m*\u001b[0m\u001b[0margs\u001b[0m\u001b[1;33m,\u001b[0m \u001b[1;33m**\u001b[0m\u001b[0mkwargs\u001b[0m\u001b[1;33m)\u001b[0m\u001b[1;33m\u001b[0m\u001b[1;33m\u001b[0m\u001b[0m\n\u001b[0;32m     54\u001b[0m \u001b[1;33m\u001b[0m\u001b[0m\n",
      "\u001b[1;32m~\\Desktop\\DroneUAV\\djitellopy\\enforce_types.py\u001b[0m in \u001b[0;36mcheck_types\u001b[1;34m(spec, *args, **kwargs)\u001b[0m\n\u001b[0;32m     42\u001b[0m \u001b[1;33m\u001b[0m\u001b[0m\n\u001b[0;32m     43\u001b[0m                 \u001b[1;32mif\u001b[0m \u001b[1;32mnot\u001b[0m \u001b[0misinstance\u001b[0m\u001b[1;33m(\u001b[0m\u001b[0mvalue\u001b[0m\u001b[1;33m,\u001b[0m \u001b[0mactual_type\u001b[0m\u001b[1;33m)\u001b[0m\u001b[1;33m:\u001b[0m\u001b[1;33m\u001b[0m\u001b[1;33m\u001b[0m\u001b[0m\n\u001b[1;32m---> 44\u001b[1;33m                     raise TypeError(\"Unexpected type for '{}' (expected {} but found {})\"\n\u001b[0m\u001b[0;32m     45\u001b[0m                                     .format(name, type_hint, type(value)))\n\u001b[0;32m     46\u001b[0m \u001b[1;33m\u001b[0m\u001b[0m\n",
      "\u001b[1;31mTypeError\u001b[0m: Unexpected type for 'left_right_velocity' (expected <class 'int'> but found <class 'list'>)"
     ]
    }
   ],
   "source": [
    "move()\n"
   ]
  },
  {
   "cell_type": "code",
   "execution_count": 19,
   "id": "fe55d82b",
   "metadata": {},
   "outputs": [
    {
     "name": "stdout",
     "output_type": "stream",
     "text": [
      "    mid    x    y    z   mpry  pitch  roll  yaw  vgx  vgy  ...  templ  temph  \\\n",
      "0    -1 -100 -100 -100  0,0,0     -1     0   14    0    0  ...     76     79   \n",
      "1    -1 -100 -100 -100  0,0,0     -1     0   14    0    0  ...     77     79   \n",
      "2    -1 -100 -100 -100  0,0,0     -1     0   14    0    0  ...     76     79   \n",
      "3    -1 -100 -100 -100  0,0,0     -1     0   14    0    0  ...     76     79   \n",
      "4    -1 -100 -100 -100  0,0,0     -1     0   14    0    0  ...     76     79   \n",
      "..  ...  ...  ...  ...    ...    ...   ...  ...  ...  ...  ...    ...    ...   \n",
      "95   -1 -100 -100 -100  0,0,0     -8    16   -3    0    0  ...     76     80   \n",
      "96   -1 -100 -100 -100  0,0,0     -4    16    2    0    0  ...     76     80   \n",
      "97   -1 -100 -100 -100  0,0,0      0    12    9    0    0  ...     76     80   \n",
      "98   -1 -100 -100 -100  0,0,0      5     9   16    0    0  ...     76     80   \n",
      "99   -1 -100 -100 -100  0,0,0     12     2   22    0    0  ...     76     80   \n",
      "\n",
      "    tof  h  bat    baro          time    agx    agy     agz  \n",
      "0    10  0    5  377.05  1.631344e+09  -20.0    7.0 -1000.0  \n",
      "1    10  0    5  377.10  0.000000e+00  -21.0    9.0  -999.0  \n",
      "2    10  0    5  377.10  0.000000e+00  -21.0    9.0 -1001.0  \n",
      "3    10  0    5  377.08  0.000000e+00  -21.0    8.0  -997.0  \n",
      "4    10  0    5  377.08  0.000000e+00  -19.0    8.0  -998.0  \n",
      "..  ... ..  ...     ...           ...    ...    ...     ...  \n",
      "95   10  0    5  377.12  0.000000e+00 -132.0 -289.0  -946.0  \n",
      "96   10  0    5  377.07  0.000000e+00  -90.0 -279.0  -940.0  \n",
      "97   10  0    5  377.10  0.000000e+00   -8.0 -201.0  -978.0  \n",
      "98   10  0    5  377.14  0.000000e+00   76.0 -124.0  -967.0  \n",
      "99   10  0    5  377.08  0.000000e+00  215.0  -42.0  -993.0  \n",
      "\n",
      "[100 rows x 21 columns]\n"
     ]
    }
   ],
   "source": [
    "print(data)"
   ]
  },
  {
   "cell_type": "code",
   "execution_count": 236,
   "id": "a096b6d1",
   "metadata": {},
   "outputs": [],
   "source": []
  },
  {
   "cell_type": "code",
   "execution_count": 20,
   "id": "dc405b1e",
   "metadata": {
    "scrolled": true
   },
   "outputs": [
    {
     "name": "stdout",
     "output_type": "stream",
     "text": [
      "done\n"
     ]
    }
   ],
   "source": [
    "data.to_csv('data11.csv', index=False)\n",
    "print(\"done\")"
   ]
  },
  {
   "cell_type": "code",
   "execution_count": 288,
   "id": "23ff6175",
   "metadata": {},
   "outputs": [
    {
     "name": "stdout",
     "output_type": "stream",
     "text": [
      "    mid    x    y    z   mpry  pitch  roll  yaw  vgx  vgy  ...  templ  temph  \\\n",
      "0    -1 -100 -100 -100  0,0,0     -5   -11    0    0    0  ...     49     52   \n",
      "1    -1 -100 -100 -100  0,0,0    -22   -62   13    0    0  ...     49     52   \n",
      "2    -1 -100 -100 -100  0,0,0    -12   -37    4    0    0  ...     49     52   \n",
      "3    -1 -100 -100 -100  0,0,0    -13     6  -10    0    0  ...     49     52   \n",
      "4    -1 -100 -100 -100  0,0,0    -14     7   -8    0    0  ...     49     52   \n",
      "..  ...  ...  ...  ...    ...    ...   ...  ...  ...  ...  ...    ...    ...   \n",
      "95   -1 -100 -100 -100  0,0,0      8   -35   52    0    0  ...     50     53   \n",
      "96   -1 -100 -100 -100  0,0,0     14   -24   60    0    0  ...     50     53   \n",
      "97   -1 -100 -100 -100  0,0,0     13   -25   62    0    0  ...     51     53   \n",
      "98   -1 -100 -100 -100  0,0,0      4   -30   51    0    0  ...     51     53   \n",
      "99   -1 -100 -100 -100  0,0,0      6   -38   53    0    0  ...     51     53   \n",
      "\n",
      "    tof  h  bat    baro  time    agx     agy     agz  \n",
      "0    10  0   22  378.73     0  -99.0   200.0  -973.0  \n",
      "1    10  0   17  378.11     0 -271.0  1068.0  -599.0  \n",
      "2    10  0   17  378.02     0 -226.0   578.0  -965.0  \n",
      "3    10  0   17  378.05     0 -221.0  -251.0  -683.0  \n",
      "4    10  0   17  378.04     0 -211.0   480.0 -1238.0  \n",
      "..  ... ..  ...     ...   ...    ...     ...     ...  \n",
      "95   10  0   17  378.01     0   97.0   677.0  -776.0  \n",
      "96   10  0   17  378.00     0  302.0   509.0  -842.0  \n",
      "97   10  0   17  378.03     0  215.0   603.0  -774.0  \n",
      "98   10  0   17  377.97     0  228.0   365.0  -846.0  \n",
      "99   10  0   17  377.98     0  260.0   361.0  -908.0  \n",
      "\n",
      "[100 rows x 21 columns]\n"
     ]
    }
   ],
   "source": [
    "print(data)"
   ]
  }
 ],
 "metadata": {
  "kernelspec": {
   "display_name": "Python 3",
   "language": "python",
   "name": "python3"
  },
  "language_info": {
   "codemirror_mode": {
    "name": "ipython",
    "version": 3
   },
   "file_extension": ".py",
   "mimetype": "text/x-python",
   "name": "python",
   "nbconvert_exporter": "python",
   "pygments_lexer": "ipython3",
   "version": "3.8.8"
  }
 },
 "nbformat": 4,
 "nbformat_minor": 5
}
